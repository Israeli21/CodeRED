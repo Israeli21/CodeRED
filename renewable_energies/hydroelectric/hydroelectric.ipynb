{
 "cells": [
  {
   "cell_type": "code",
   "execution_count": null,
   "id": "55a384a4",
   "metadata": {},
   "outputs": [],
   "source": [
    "import geopandas as gpd\n",
    "\n",
    "# load flowlines\n",
    "flow = gpd.read_file(\"NHDFlowline.shp\")\n",
    "\n",
    "# inspect columns\n",
    "print(flow.columns[:10])\n",
    "print(flow.head())\n",
    "\n",
    "# load catchment polygons\n",
    "catch = gpd.read_file(\"Catchment.shp\")\n",
    "\n",
    "# quick plot\n",
    "flow.plot(figsize=(10,6), color=\"blue\")"
   ]
  }
 ],
 "metadata": {
  "language_info": {
   "name": "python"
  }
 },
 "nbformat": 4,
 "nbformat_minor": 5
}
